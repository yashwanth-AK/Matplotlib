{
 "cells": [
  {
   "cell_type": "code",
   "execution_count": null,
   "id": "a4f0c6ab",
   "metadata": {},
   "outputs": [],
   "source": [
    "%matplotlib inline\n",
    "import pandas as pd\n",
    "import numpy as np\n",
    "import matplotlib.pyplot as plt"
   ]
  },
  {
   "cell_type": "code",
   "execution_count": null,
   "id": "80891a67",
   "metadata": {},
   "outputs": [],
   "source": [
    "plt.plot()"
   ]
  },
  {
   "cell_type": "code",
   "execution_count": null,
   "id": "d7ebd63d",
   "metadata": {},
   "outputs": [],
   "source": [
    "plt.plot();"
   ]
  },
  {
   "cell_type": "code",
   "execution_count": null,
   "id": "805a5b8c",
   "metadata": {},
   "outputs": [],
   "source": [
    "plt.plot()\n",
    "plt.show()"
   ]
  },
  {
   "cell_type": "code",
   "execution_count": null,
   "id": "84a925ea",
   "metadata": {},
   "outputs": [],
   "source": [
    "x=[1,2,3,4,5]\n",
    "y=[6,7,8,9,10]\n",
    "\n",
    "plt.plot(x,y)\n",
    "plt.show()"
   ]
  },
  {
   "cell_type": "code",
   "execution_count": null,
   "id": "f2aaf594",
   "metadata": {},
   "outputs": [],
   "source": [
    "fig,ax=plt.subplots()\n",
    "ax.plot(x,[8,16,17,45,50]);"
   ]
  },
  {
   "cell_type": "markdown",
   "id": "a146b9f9",
   "metadata": {},
   "source": [
    "# The Workflow of Matplotlib"
   ]
  },
  {
   "cell_type": "code",
   "execution_count": null,
   "id": "e32ba50e",
   "metadata": {},
   "outputs": [],
   "source": [
    "%matplotlib inline \n",
    "import matplotlib.pyplot as plt\n",
    "import pandas as pd\n",
    "import numpy as np\n",
    "\n",
    "fig,ax=plt.subplots(figsize=(8,8))\n",
    "\n",
    "x=[1,2,3,4,5]\n",
    "y=[6,7,8,9,10]\n",
    "\n",
    "ax=plt.plot(x,y)\n",
    "\n",
    "ax.set(title=\"simple plotting\",xlabel=\"X-axis\",ylabel=\"Y-axis\")\n",
    "\n",
    "\n",
    "\n"
   ]
  },
  {
   "cell_type": "code",
   "execution_count": null,
   "id": "c1b11863",
   "metadata": {},
   "outputs": [],
   "source": [
    "%matplotlib inline\n",
    "import matplotlib.pyplot as plt\n",
    "\n",
    "# 1. Prepare data\n",
    "x = [1, 2, 3, 4]\n",
    "y = [11, 22, 33, 44]\n",
    "\n",
    "# 2. Setup plot\n",
    "fig, ax = plt.subplots(figsize=(10,10))\n",
    "\n",
    "# 3. Plot data\n",
    "ax.plot(x, y)\n",
    "\n",
    "# 4. Customize plot\n",
    "ax.set(title=\"Sample Simple Plot\", xlabel=\"x-axis\", ylabel=\"y-axis\")\n"
   ]
  },
  {
   "cell_type": "code",
   "execution_count": null,
   "id": "a76e8063",
   "metadata": {},
   "outputs": [],
   "source": [
    "x=np.linspace(0,10,100)\n",
    "x\n",
    "\n",
    "#if you don't know about linspace browse it to find the answer"
   ]
  },
  {
   "cell_type": "code",
   "execution_count": null,
   "id": "a215660c",
   "metadata": {},
   "outputs": [],
   "source": [
    "fig,ax=plt.subplots()\n",
    "ax=plt.plot(x,x**2);"
   ]
  },
  {
   "cell_type": "code",
   "execution_count": null,
   "id": "cedad8ba",
   "metadata": {},
   "outputs": [],
   "source": [
    "#there we get a nice little curve line show we will see some of the different things like\n",
    "\n",
    "#bar plot,scatter plots and etc..\n"
   ]
  },
  {
   "cell_type": "code",
   "execution_count": null,
   "id": "b3cef0c2",
   "metadata": {},
   "outputs": [],
   "source": [
    "ax=plt.scatter(x,x**2)"
   ]
  },
  {
   "cell_type": "code",
   "execution_count": null,
   "id": "a62d3a90",
   "metadata": {},
   "outputs": [],
   "source": [
    "ax=plt.scatter(x,np.sin(x))\n",
    "\n",
    "#its a pretty good sin wave"
   ]
  },
  {
   "cell_type": "code",
   "execution_count": null,
   "id": "5ae2e141",
   "metadata": {},
   "outputs": [],
   "source": [
    "#let us create a dictionary and find the bar plot for it \n",
    "\n",
    "butter_sales={\n",
    "    \"Almond_butter\":10,\n",
    "    \"peanut_butter\":8,\n",
    "    \"cashew_butter\":12\n",
    "}"
   ]
  },
  {
   "cell_type": "code",
   "execution_count": null,
   "id": "8a02af42",
   "metadata": {},
   "outputs": [],
   "source": [
    "fig,ax=plt.subplots()\n",
    "ax=plt.bar(butter_sales.keys(),butter_sales.values())"
   ]
  },
  {
   "cell_type": "code",
   "execution_count": null,
   "id": "622e8d56",
   "metadata": {},
   "outputs": [],
   "source": [
    "fig"
   ]
  },
  {
   "cell_type": "code",
   "execution_count": null,
   "id": "61ee39d2",
   "metadata": {},
   "outputs": [],
   "source": [
    "# let do everthing in just simple line of code\n",
    "\n",
    "fig,((ax1,ax2),(ax3,ax4))=plt.subplots(nrows=2,\n",
    "                                      ncols=2,\n",
    "                                      figsize=(10,7))\n",
    "ax1.plot(x,x//2);\n",
    "ax2.scatter(np.random.random(10),np.random.random(10));\n",
    "ax3.bar(butter_sales.keys(),butter_sales.values());\n",
    "ax4.hist(np.random.randn(1000));\n"
   ]
  },
  {
   "cell_type": "code",
   "execution_count": null,
   "id": "8e14c0d6",
   "metadata": {},
   "outputs": [],
   "source": [
    "# option 2 to do this is\n",
    "fig,ax=plt.subplots(nrows=2,\n",
    "ncols=2,\n",
    "figsize=(8,7))\n",
    "ax[0,0]=plt.plot(x,y)\n",
    "ax[0,1]=plt.scatter(x,y)\n",
    "\n",
    "\n"
   ]
  },
  {
   "cell_type": "code",
   "execution_count": null,
   "id": "081f029b",
   "metadata": {},
   "outputs": [],
   "source": [
    "import pandas as pd"
   ]
  },
  {
   "cell_type": "code",
   "execution_count": null,
   "id": "111c0afd",
   "metadata": {},
   "outputs": [],
   "source": [
    "car_sales=pd.read_csv('7.1 car-sales.csv')"
   ]
  },
  {
   "cell_type": "code",
   "execution_count": null,
   "id": "c49246b5",
   "metadata": {},
   "outputs": [],
   "source": [
    "car_sales"
   ]
  },
  {
   "cell_type": "code",
   "execution_count": null,
   "id": "43730b20",
   "metadata": {},
   "outputs": [],
   "source": [
    "car_sales[\"Price\"]=car_sales[\"Price\"].str.replace('[\\$\\,\\.]', '').astype(int)"
   ]
  },
  {
   "cell_type": "code",
   "execution_count": null,
   "id": "c6190b5c",
   "metadata": {},
   "outputs": [],
   "source": [
    "car_sales['Price']"
   ]
  },
  {
   "cell_type": "code",
   "execution_count": null,
   "id": "874f7b5e",
   "metadata": {},
   "outputs": [],
   "source": [
    "car_sales['Date']=pd.date_range(start=(1/1/2022),periods=len(car_sales))"
   ]
  },
  {
   "cell_type": "code",
   "execution_count": null,
   "id": "53ebbe6e",
   "metadata": {},
   "outputs": [],
   "source": [
    "car_sales"
   ]
  },
  {
   "cell_type": "code",
   "execution_count": null,
   "id": "eaafae8b",
   "metadata": {},
   "outputs": [],
   "source": [
    "car_sales['Price'].dtype"
   ]
  },
  {
   "cell_type": "code",
   "execution_count": null,
   "id": "dd8c9a31",
   "metadata": {},
   "outputs": [],
   "source": [
    "car_sales['Total_sale']=car_sales['Price'].cumsum()\n",
    "\n",
    "#the cumsum function will add the 1 st value to the second and continues more over like fibanocci series process "
   ]
  },
  {
   "cell_type": "code",
   "execution_count": null,
   "id": "25460555",
   "metadata": {},
   "outputs": [],
   "source": [
    "car_sales"
   ]
  },
  {
   "cell_type": "code",
   "execution_count": null,
   "id": "0a09bdf0",
   "metadata": {},
   "outputs": [],
   "source": [
    "type(car_sales['Price'][0])"
   ]
  },
  {
   "cell_type": "code",
   "execution_count": null,
   "id": "b594078f",
   "metadata": {},
   "outputs": [],
   "source": [
    "ax=plt.plot(car_sales['Price'],car_sales['Date'])"
   ]
  },
  {
   "cell_type": "code",
   "execution_count": null,
   "id": "b43b4f8c",
   "metadata": {},
   "outputs": [],
   "source": [
    "ax=plt.scatter(x=car_sales['Date'],y=car_sales['Price'])"
   ]
  },
  {
   "cell_type": "code",
   "execution_count": null,
   "id": "cac38717",
   "metadata": {},
   "outputs": [],
   "source": [
    "ax=plt.hist(x=car_sales['Price'],y=car_sales['Date'])"
   ]
  },
  {
   "cell_type": "code",
   "execution_count": null,
   "id": "84400459",
   "metadata": {},
   "outputs": [],
   "source": [
    "import numpy as np"
   ]
  },
  {
   "cell_type": "code",
   "execution_count": null,
   "id": "4740262e",
   "metadata": {},
   "outputs": [],
   "source": [
    "v=np.random.randn(10,4)\n",
    "v"
   ]
  },
  {
   "cell_type": "code",
   "execution_count": null,
   "id": "d828bea3",
   "metadata": {},
   "outputs": [],
   "source": [
    "df=pd.DataFrame(v,columns=['a','b','c','d'])\n",
    "\n",
    "df"
   ]
  },
  {
   "cell_type": "code",
   "execution_count": null,
   "id": "d848c54d",
   "metadata": {},
   "outputs": [],
   "source": [
    "df.plot(kind='bar');"
   ]
  },
  {
   "cell_type": "code",
   "execution_count": null,
   "id": "387be295",
   "metadata": {},
   "outputs": [],
   "source": [
    "car_sales"
   ]
  },
  {
   "cell_type": "code",
   "execution_count": null,
   "id": "86c15ceb",
   "metadata": {},
   "outputs": [],
   "source": [
    "car_sales['Price'].plot(kind='bar')"
   ]
  },
  {
   "cell_type": "code",
   "execution_count": null,
   "id": "4f94a324",
   "metadata": {},
   "outputs": [],
   "source": [
    "car_sales.plot(x='Make',y='Price',kind='bar');"
   ]
  },
  {
   "cell_type": "code",
   "execution_count": null,
   "id": "2c6687ce",
   "metadata": {},
   "outputs": [],
   "source": [
    "car_sales.plot(x='Make',y='Price',kind='hist');\n",
    "\n",
    "#here we have used histogram to visualize the data"
   ]
  },
  {
   "cell_type": "code",
   "execution_count": null,
   "id": "4db58dbe",
   "metadata": {},
   "outputs": [],
   "source": [
    "car_sales.plot(x='Make',y='Price',kind='scatter');"
   ]
  },
  {
   "cell_type": "code",
   "execution_count": null,
   "id": "b7d33a57",
   "metadata": {},
   "outputs": [],
   "source": [
    "car_sales['Odometer (KM)'].plot.hist(bins=30);\n",
    "\n",
    "#the bins changes the histograms structure "
   ]
  },
  {
   "cell_type": "code",
   "execution_count": null,
   "id": "6c510856",
   "metadata": {},
   "outputs": [],
   "source": [
    "hd=pd.read_csv('heart-disease.csv')"
   ]
  },
  {
   "cell_type": "code",
   "execution_count": null,
   "id": "b2b73b8b",
   "metadata": {},
   "outputs": [],
   "source": [
    "hd"
   ]
  },
  {
   "cell_type": "code",
   "execution_count": null,
   "id": "58055d74",
   "metadata": {},
   "outputs": [],
   "source": [
    "hd['age'].plot.hist(bins=80);\n",
    "\n",
    "#to create a solid understanding play around and change the bins value to see the changes."
   ]
  },
  {
   "cell_type": "code",
   "execution_count": null,
   "id": "d61f7e19",
   "metadata": {},
   "outputs": [],
   "source": [
    "hd.plot.hist(figsize=(10,10),subplots=True);\n"
   ]
  },
  {
   "cell_type": "code",
   "execution_count": null,
   "id": "9f08306e",
   "metadata": {},
   "outputs": [],
   "source": [
    "# there are actually two methods to plot a data\n",
    "#the pyplot method and oo method or object oriented method.\n",
    "\n",
    "#first lets create a new data frame for our simpicity..\n",
    "\n",
    "over_50=hd[hd['age']>50]\n",
    "over_50"
   ]
  },
  {
   "cell_type": "code",
   "execution_count": null,
   "id": "e4b32668",
   "metadata": {},
   "outputs": [],
   "source": [
    "over_50.head()"
   ]
  },
  {
   "cell_type": "code",
   "execution_count": null,
   "id": "64a5d5a0",
   "metadata": {},
   "outputs": [],
   "source": [
    "over_50.plot(kind='scatter',x='age',y='chol',c='target')"
   ]
  },
  {
   "cell_type": "code",
   "execution_count": null,
   "id": "745d6305",
   "metadata": {},
   "outputs": [],
   "source": [
    "from turtle import title\n",
    "\n",
    "\n",
    "fig,ax=plt.subplots(figsize=(10,6))\n",
    "\n",
    "scatter=plt.scatter(x=over_50.age,y=over_50.chol,c=over_50.target)\n",
    "\n",
    "ax.set(title='heart disease',\n",
    "xlabel='age',\n",
    "ylabel='cholestrol');\n",
    "\n",
    "ax.legend(*scatter.legend_elements(),title=\"Target\")\n",
    "\n",
    "ax.axhline(over_50['chol'].mean(),linestyle='--')"
   ]
  },
  {
   "cell_type": "code",
   "execution_count": null,
   "id": "aef796d9",
   "metadata": {},
   "outputs": [],
   "source": [
    "# adding the above plot as a subplot \n",
    "fig,(ax0,ax1)=plt.subplots(nrows=2,ncols=1,figsize=(10,10))\n",
    "\n",
    "#adding values to ax0\n",
    "satter=ax0.scatter(x=over_50['age'],y=over_50.chol,c=over_50.target)\n",
    "\n",
    "#adding some more features to axo to make visualization complete.\n",
    "ax0.set(title=\"Cholesterol and Age Scatter\",xlabel=\"Age\",ylabel=\"Cholesterol\")\n",
    "\n",
    "ax0.legend(*satter.legend_elements(),title=\"Target\")\n",
    "\n",
    "#to add the mean value so that we can find the average and the high colesterol value\n",
    "ax0.axhline(over_50.chol.mean(),linestyle=\"--\")\n",
    "\n",
    "#we need to add the same for age and thalach\n",
    "scatter=ax1.scatter(x=over_50.age,y=over_50.thalach,c=over_50.target)\n",
    "\n",
    "ax1.set(title=\"Thalach and the Age Scatter\",xlabel=\"Age\",ylabel=\"Thalach\")\n",
    "\n",
    "ax1.legend(*scatter.legend_elements(),title=\"Target\")\n",
    "\n",
    "ax1.axhline(over_50.thalach.mean(),linestyle=\"-\")\n",
    "\n",
    "#actually this line is remove some unwanted line of text above the plots.\n",
    "plt.show(ax0,ax1);"
   ]
  },
  {
   "cell_type": "code",
   "execution_count": null,
   "id": "1bfa87a7",
   "metadata": {},
   "outputs": [],
   "source": [
    "import pandas as pd"
   ]
  },
  {
   "cell_type": "code",
   "execution_count": null,
   "id": "ca6e2eac",
   "metadata": {},
   "outputs": [],
   "source": [
    "cs=pd.read_csv('7.1 car-sales.csv')\n",
    "cs"
   ]
  },
  {
   "cell_type": "markdown",
   "id": "172e4fee",
   "metadata": {},
   "source": [
    "# Customizing the plots"
   ]
  },
  {
   "cell_type": "code",
   "execution_count": null,
   "id": "acc44a5a",
   "metadata": {},
   "outputs": [],
   "source": [
    "plt.style.available"
   ]
  },
  {
   "cell_type": "code",
   "execution_count": null,
   "id": "1841d569",
   "metadata": {},
   "outputs": [],
   "source": [
    "plt.style.use('seaborn')"
   ]
  },
  {
   "cell_type": "code",
   "execution_count": null,
   "id": "c79afb3a",
   "metadata": {},
   "outputs": [],
   "source": []
  },
  {
   "cell_type": "code",
   "execution_count": null,
   "id": "909b53ec",
   "metadata": {},
   "outputs": [],
   "source": [
    "plt.hist(car_sales.Price,car_sales.Make)"
   ]
  },
  {
   "cell_type": "code",
   "execution_count": null,
   "id": "0f99bb73",
   "metadata": {},
   "outputs": [],
   "source": [
    "\n",
    "car_sales['Doors'].plot(kind='bar');"
   ]
  },
  {
   "cell_type": "code",
   "execution_count": null,
   "id": "d66669ce",
   "metadata": {},
   "outputs": [],
   "source": [
    "df=np.random.random"
   ]
  },
  {
   "cell_type": "code",
   "execution_count": null,
   "id": "3aba1e1e",
   "metadata": {},
   "outputs": [],
   "source": [
    "df"
   ]
  },
  {
   "cell_type": "code",
   "execution_count": null,
   "id": "95d0c87b",
   "metadata": {},
   "outputs": [],
   "source": [
    "df_1=pd.DataFrame(df,columns=['a','b','c','d'])"
   ]
  },
  {
   "cell_type": "code",
   "execution_count": null,
   "id": "2746c47b",
   "metadata": {},
   "outputs": [],
   "source": [
    "ax=df_1.plot(kind='bar')\n",
    "\n",
    "ax.set(title=\"The Random number\",\n",
    "        ylabel=\"Number range\",\n",
    "        xlabel=\"Index\");"
   ]
  },
  {
   "cell_type": "markdown",
   "id": "267c3301",
   "metadata": {},
   "source": [
    "# customizing the plots part-2"
   ]
  },
  {
   "cell_type": "code",
   "execution_count": null,
   "id": "048544ee",
   "metadata": {},
   "outputs": [],
   "source": [
    "import pandas as pd\n",
    "import matplotlib.pyplot as plt\n",
    "import numpy as np"
   ]
  },
  {
   "cell_type": "code",
   "execution_count": null,
   "id": "54b7f98f",
   "metadata": {},
   "outputs": [],
   "source": [
    "hd=pd.read_csv('heart-disease.csv')\n",
    "\n",
    "over_50=hd[hd.age>50]\n"
   ]
  },
  {
   "cell_type": "code",
   "execution_count": null,
   "id": "9dd77e04",
   "metadata": {},
   "outputs": [],
   "source": [
    "over_50"
   ]
  },
  {
   "cell_type": "code",
   "execution_count": null,
   "id": "8deba10d",
   "metadata": {},
   "outputs": [],
   "source": [
    "#let us create a scatter plot for cholesterol , age ,thalach.\n",
    "fig,(ax0,ax1)=plt.subplots(nrows=2,ncols=1,figsize=(10,10),sharex=True)\n",
    "\n",
    "#assign the value for axis zero;\n",
    "scatter=ax0.scatter(x=over_50.age,y=over_50.chol,c=over_50.target,cmap='winter')\n",
    "\n",
    "ax0.set(title=\"Heart Disease\",ylabel=\"Cholesterol\")\n",
    "\n",
    "#let's change the line style of this plot so,\n",
    "\n",
    "ax0.axhline(over_50.chol.mean(),linestyle=\"--\")\n",
    "\n",
    "#now let us set the axis 1 values\n",
    "scatter=ax1.scatter(x=over_50.age,y=over_50.thalach,c=over_50.target,cmap=\"winter\")\n",
    "\n",
    "#the same here we need to set the the title and change the style of the line \n",
    "ax1.set(title=\"Age vs Thalach\",xlabel=\"Age\",ylabel=\"Thalach\")\n",
    "\n",
    "#the thalach refers to the Heart beat i think so\n",
    "ax1.axhline(over_50.thalach.mean(),linestyle=\"--\")\n",
    "\n",
    "# how to have a common title as \"Heart disease insted of having two title's in one plot..\"\n",
    "\n",
    "#to get that suptitle is the way\n",
    "\n",
    "plt.suptitle(\"Heart Disease\",fontsize=16,fontweight='bold')\n",
    "\n",
    "#let us use a different style here\n",
    "\n",
    "plt.style.use('seaborn-whitegrid')\n",
    "\n",
    "#let us set the legend values\n",
    "ax0.legend(*scatter.legend_elements(),title=\"Target\")\n",
    "plt.show(ax0,ax1)"
   ]
  },
  {
   "cell_type": "code",
   "execution_count": null,
   "id": "2ec3c7a7",
   "metadata": {},
   "outputs": [],
   "source": []
  }
 ],
 "metadata": {
  "kernelspec": {
   "display_name": "Python 3.10.4 (conda)",
   "language": "python",
   "name": "python3"
  },
  "language_info": {
   "codemirror_mode": {
    "name": "ipython",
    "version": 3
   },
   "file_extension": ".py",
   "mimetype": "text/x-python",
   "name": "python",
   "nbconvert_exporter": "python",
   "pygments_lexer": "ipython3",
   "version": "3.10.4"
  },
  "vscode": {
   "interpreter": {
    "hash": "3e741097e98b737b8c13b2ac40df4145a675a8c1a3d2283cf7283e2d68485328"
   }
  }
 },
 "nbformat": 4,
 "nbformat_minor": 5
}
